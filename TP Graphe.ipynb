{
 "cells": [
  {
   "cell_type": "markdown",
   "source": [
    "# TP de Graphe :\n",
    "# 1.1 Construction du graphe"
   ],
   "metadata": {
    "collapsed": false
   }
  },
  {
   "cell_type": "code",
   "execution_count": 2,
   "metadata": {
    "ExecuteTime": {
     "end_time": "2024-04-23T09:13:04.263819400Z",
     "start_time": "2024-04-23T09:13:03.447399300Z"
    }
   },
   "outputs": [
    {
     "name": "stdout",
     "output_type": "stream",
     "text": [
      "1 2 1 1 1 1 1 1 0\n",
      "1 0 1 1 1 1 0 1 1\n",
      "1 1 1 0 0 1 0 1 1\n",
      "1 0 1 1 1 1 3 1 1\n"
     ]
    }
   ],
   "source": [
    "import matplotlib.pyplot as plt\n",
    "\n",
    "class Graphe:\n",
    "    def __init__(self):\n",
    "        self.graphe = {}\n",
    "        self.depart = None\n",
    "        self.arrivee = None\n",
    "\n",
    "    def ajouter_sommet(self, sommet):\n",
    "        if sommet not in self.graphe:\n",
    "            self.graphe[sommet] = set()\n",
    "\n",
    "    def ajouter_arete(self, u, v):\n",
    "        if u in self.graphe and v in self.graphe:\n",
    "            self.graphe[u].add(v)\n",
    "            self.graphe[v].add(u)\n",
    "    \n",
    "    def ajouter_arete(self, u, v):\n",
    "        if u in self.graphe and v in self.graphe:\n",
    "            self.graphe[u].add(v)\n",
    "            self.graphe[v].add(u)\n",
    "\n",
    "    def supprimer_arete(self, u, v):\n",
    "        if u in self.graphe and v in self.graphe:\n",
    "            self.graphe[u].discard(v)\n",
    "            self.graphe[v].discard(u)\n",
    "\n",
    "    def creer_graphe_depuis_fichier(self, chemin_fichier):\n",
    "        with open(chemin_fichier, 'r') as fichier:\n",
    "            lignes = fichier.readlines()\n",
    "        \n",
    "        n, m = map(int, lignes[0].split())\n",
    "        matrice = [ligne.split() for ligne in lignes[1:]]\n",
    "        \n",
    "        for y in range(n):\n",
    "            for x in range(m):\n",
    "                if matrice[y][x] in {'1', '2', '3'}:\n",
    "                    self.ajouter_sommet((x, y))\n",
    "                    if matrice[y][x] == '2':\n",
    "                        self.depart = (x, y)\n",
    "                    if matrice[y][x] == '3':\n",
    "                        self.arrivee = (x, y)\n",
    "                \n",
    "                # Ajouter les arêtes pour les sommets voisins dans le graphe\n",
    "                if matrice[y][x] != '0':\n",
    "                    if x > 0 and matrice[y][x-1] != '0':  # À gauche\n",
    "                        self.ajouter_arete((x, y), (x - 1, y))\n",
    "                    if y > 0 and matrice[y-1][x] != '0':  # En haut\n",
    "                        self.ajouter_arete((x, y), (x, y - 1))\n",
    "    \n",
    "    def afficher_matrice(self):\n",
    "        # Déterminer la taille de la matrice\n",
    "        max_x = max(self.graphe, key=lambda x: x[0])[0] + 1\n",
    "        max_y = max(self.graphe, key=lambda x: x[1])[1] + 1\n",
    "        \n",
    "        # Initialiser la matrice avec des zéros\n",
    "        matrice = [['0' for _ in range(max_x)] for _ in range(max_y)]\n",
    "        \n",
    "        # Remplir la matrice avec les chemins (1), départ (2) et arrivée (3)\n",
    "        for (x, y) in self.graphe:\n",
    "            matrice[y][x] = '1'\n",
    "        if self.depart:\n",
    "            matrice[self.depart[1]][self.depart[0]] = '2'\n",
    "        if self.arrivee:\n",
    "            matrice[self.arrivee[1]][self.arrivee[0]] = '3'\n",
    "        \n",
    "        # Afficher la matrice\n",
    "        for ligne in matrice:\n",
    "            print(' '.join(ligne))\n",
    "\n",
    "    def tracer_graphe(self):\n",
    "        plt.figure(figsize=(8, 6))\n",
    "        # Dessiner les arêtes\n",
    "        for u in self.graphe:\n",
    "            for v in self.graphe[u]:\n",
    "                plt.plot([u[0], v[0]], [u[1], v[1]], 'b-', linewidth=1)  # lignes bleues pour les arêtes\n",
    "\n",
    "        # Dessiner les sommets\n",
    "        for u in self.graphe:\n",
    "            plt.plot(u[0], u[1], 'ko', markersize=8)  # points noirs pour les sommets\n",
    "\n",
    "        # Mettre en évidence les points de départ et d'arrivée\n",
    "        if self.depart:\n",
    "            plt.plot(self.depart[0], self.depart[1], 'go', markersize=10)  # Vert pour départ\n",
    "        if self.arrivee:\n",
    "            plt.plot(self.arrivee[0], self.arrivee[1], 'ro', markersize=10)  # Rouge pour arrivée\n",
    "\n",
    "        plt.xlabel('X coordinate')\n",
    "        plt.ylabel('Y coordinate')\n",
    "        plt.title('Visualisation du Graphe')\n",
    "        plt.gca().invert_yaxis()  # Inverser l'axe Y pour correspondre au format de matrice\n",
    "        plt.grid(True)\n",
    "        plt.show()\n",
    "    \n",
    "\n",
    "\n",
    "# Exemple d'utilisation\n",
    "\n",
    "# Usage example\n",
    "graphe = Graphe()\n",
    "graphe.creer_graphe_depuis_fichier('exo1.txt')  # Assurez-vous que le chemin d'accès est correct\n",
    "graphe.afficher_matrice()\n",
    "\n",
    "\n"
   ]
  },
  {
   "cell_type": "code",
   "execution_count": null,
   "metadata": {},
   "outputs": [],
   "source": [
    "graphe.tracer_graphe()"
   ]
  },
  {
   "cell_type": "markdown",
   "source": [
    "# 1.2 Modélisation mathématique\n",
    "\n",
    "## Modélisation du Problème en Programmation Linéaire\n",
    "\n",
    "Le problème du plus court chemin dans un graphe peut être formulé comme un problème de programmation linéaire. Ce problème consiste à trouver le chemin le moins coûteux entre une source et une destination dans un graphe.\n",
    "\n",
    "### Variables\n",
    "Pour chaque arête $(u, v)$ dans le graphe, nous définissons une variable binaire $x_{uv}$ qui indique si l'arête $(u, v)$ est utilisée dans le chemin le plus court.\n",
    "\n",
    "### Fonction Objectif\n",
    "La fonction objectif est de minimiser le coût total du chemin. Cela est exprimé comme suit :\n",
    "\n",
    "$$ \\min \\sum_{(u, v) \\in E} c_{uv} x_{uv} $$\n",
    "\n",
    "où $c_{uv}$ représente le coût de l'arête $(u, v)$.\n",
    "\n",
    "### Contraintes\n",
    "\n",
    "#### Conservation du Flux\n",
    "Pour chaque sommet $v$ autre que la source $s$ et la destination $t$, la conservation du flux doit être respectée :\n",
    "\n",
    "$$ \\sum_{(u, v) \\in E} x_{uv} - \\sum_{(v, w) \\in E} x_{vw} = 0 $$\n",
    "\n",
    "#### Contraintes de la Source et de la Destination\n",
    "La source $s$ doit avoir exactement une arête sortante active et la destination $t$ doit avoir exactement une arête entrante active :\n",
    "\n",
    "- Pour la source $s$ :\n",
    "$$ \\sum_{(s, v) \\in E} x_{sv} = 1 $$\n",
    "\n",
    "- Pour la destination $t$ :\n",
    "$$ \\sum_{(u, t) \\in E} x_{ut} = 1 $$\n",
    "\n",
    "## Résumé\n",
    "Cette modélisation permet de transformer le problème du plus court chemin en un problème de programmation linéaire, où la solution optimale indique le chemin le plus court en termes de coût entre deux points donnés dans un réseau.\n"
   ],
   "metadata": {
    "collapsed": false
   }
  },
  {
   "cell_type": "markdown",
   "source": [
    "## Implémentation avec CPLEX"
   ],
   "metadata": {
    "collapsed": false
   }
  },
  {
   "cell_type": "code",
   "execution_count": null,
   "outputs": [],
   "source": [
    "from cplex import Cplex\n",
    "from cplex.exceptions import CplexError\n",
    "\n",
    "def resoudre_cplex(graphe):\n",
    "    try:\n",
    "        prob = Cplex()\n",
    "        prob.set_problem_type(Cplex.problem_type.LP)  # Définir le problème comme linéaire\n",
    "\n",
    "        # Ajouter les variables x_uv\n",
    "        edge_vars = []\n",
    "        for u in graphe.graphe:\n",
    "            for v in graphe.graphe[u]:\n",
    "                varname = f\"x_{u}_{v}\"\n",
    "                prob.variables.add(names=[varname], lb=[0], ub=[1], types=[\"B\"])\n",
    "                edge_vars.append((varname, u, v))\n",
    "\n",
    "        # Définir la fonction objectif\n",
    "        prob.objective.set_sense(prob.objective.sense.minimize)\n",
    "        costs = [1] * len(edge_vars)  # Mettre les coûts ici, 1 pour exemple simplifié\n",
    "        varnames = [var[0] for var in edge_vars]\n",
    "        prob.objective.set_linear(list(zip(varnames, costs)))\n",
    "\n",
    "        # Ajouter les contraintes de conservation du flux\n",
    "        for node in graphe.graphe:\n",
    "            if node != graphe.depart and node != graphe.arrivee:\n",
    "                row = [[], []]\n",
    "                for varname, u, v in edge_vars:\n",
    "                    if u == node:\n",
    "                        row[0].append(varname)\n",
    "                        row[1].append(1)\n",
    "                    if v == node:\n",
    "                        row[0].append(varname)\n",
    "                        row[1].append(-1)\n",
    "                prob.linear_constraints.add(lin_expr=[row], senses=[\"E\"], rhs=[0])\n",
    "\n",
    "        # Contraintes pour la source et la destination\n",
    "        source_constraints = [[], []]\n",
    "        sink_constraints = [[], []]\n",
    "        for varname, u, v in edge_vars:\n",
    "            if u == graphe.depart:\n",
    "                source_constraints[0].append(varname)\n",
    "                source_constraints[1].append(1)\n",
    "            if v == graphe.arrivee:\n",
    "                sink_constraints[0].append(varname)\n",
    "                sink_constraints[1].append(1)\n",
    "        prob.linear_constraints.add(lin_expr=[source_constraints], senses=[\"E\"], rhs=[1])\n",
    "        prob.linear_constraints.add(lin_expr=[sink_constraints], senses=[\"E\"], rhs=[1])\n",
    "\n",
    "        prob.solve()  # Résoudre le problème\n",
    "\n",
    "        # Afficher la solution\n",
    "        solution = prob.solution.get_values()\n",
    "        for idx, value in enumerate(solution):\n",
    "            if value > 0.9:  # Si x_uv est 1\n",
    "                print(f\"{edge_vars[idx]} is in the solution\")\n",
    "\n",
    "    except CplexError as exc:\n",
    "        print(exc)\n",
    "        return\n",
    "\n",
    "resoudre_cplex(graphe)\n"
   ],
   "metadata": {
    "collapsed": false
   }
  },
  {
   "cell_type": "markdown",
   "source": [
    "## Sauvegarde de la solution"
   ],
   "metadata": {
    "collapsed": false
   }
  },
  {
   "cell_type": "code",
   "execution_count": null,
   "outputs": [],
   "source": [],
   "metadata": {
    "collapsed": false
   }
  }
 ],
 "metadata": {
  "kernelspec": {
   "display_name": "Python 3",
   "language": "python",
   "name": "python3"
  },
  "language_info": {
   "codemirror_mode": {
    "name": "ipython",
    "version": 3
   },
   "file_extension": ".py",
   "mimetype": "text/x-python",
   "name": "python",
   "nbconvert_exporter": "python",
   "pygments_lexer": "ipython3",
   "version": "3.10.7"
  }
 },
 "nbformat": 4,
 "nbformat_minor": 2
}
